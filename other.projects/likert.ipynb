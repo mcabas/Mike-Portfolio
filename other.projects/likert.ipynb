{
 "cells": [
  {
   "cell_type": "markdown",
   "metadata": {},
   "source": [
    "## Analisis tipo likert"
   ]
  },
  {
   "cell_type": "code",
   "execution_count": 2,
   "metadata": {},
   "outputs": [],
   "source": [
    "#import libraries\n",
    "\n",
    "import os\n",
    "import pandas as pd\n",
    "import seaborn as sns\n",
    "import matplotlib.pyplot as plt"
   ]
  },
  {
   "cell_type": "code",
   "execution_count": 16,
   "metadata": {},
   "outputs": [
    {
     "data": {
      "text/html": [
       "<div>\n",
       "<style scoped>\n",
       "    .dataframe tbody tr th:only-of-type {\n",
       "        vertical-align: middle;\n",
       "    }\n",
       "\n",
       "    .dataframe tbody tr th {\n",
       "        vertical-align: top;\n",
       "    }\n",
       "\n",
       "    .dataframe thead th {\n",
       "        text-align: right;\n",
       "    }\n",
       "</style>\n",
       "<table border=\"1\" class=\"dataframe\">\n",
       "  <thead>\n",
       "    <tr style=\"text-align: right;\">\n",
       "      <th></th>\n",
       "      <th>Dimensión</th>\n",
       "      <th>Categoría</th>\n",
       "      <th>Subcategoría</th>\n",
       "      <th>Indicador</th>\n",
       "      <th>Afirmaciones</th>\n",
       "      <th>Número de afirmación dentro del cuestionario</th>\n",
       "      <th>formulaio.Correo</th>\n",
       "      <th>formulaio.Participante</th>\n",
       "      <th>formulaio.Afirmaciones</th>\n",
       "      <th>formulaio.Respuesta</th>\n",
       "      <th>Nivel de Desacuerdo</th>\n",
       "    </tr>\n",
       "  </thead>\n",
       "  <tbody>\n",
       "    <tr>\n",
       "      <th>0</th>\n",
       "      <td>Concepción de ciencia</td>\n",
       "      <td>Ciencia positivista</td>\n",
       "      <td>Progresiva</td>\n",
       "      <td>La ciencia avanza, de manera contínua, hacia u...</td>\n",
       "      <td>La ciencia se desarrolla constantemente hacia ...</td>\n",
       "      <td>1</td>\n",
       "      <td>angela.diosa@inemjose.edu.co</td>\n",
       "      <td>Angela</td>\n",
       "      <td>1</td>\n",
       "      <td>4</td>\n",
       "      <td>De acuerdo</td>\n",
       "    </tr>\n",
       "    <tr>\n",
       "      <th>1</th>\n",
       "      <td>Concepción de ciencia</td>\n",
       "      <td>Ciencia positivista</td>\n",
       "      <td>Progresiva</td>\n",
       "      <td>La ciencia avanza, de manera contínua, hacia u...</td>\n",
       "      <td>La ciencia avanza tomando las explicaciones pr...</td>\n",
       "      <td>2</td>\n",
       "      <td>angela.diosa@inemjose.edu.co</td>\n",
       "      <td>Angela</td>\n",
       "      <td>2</td>\n",
       "      <td>4</td>\n",
       "      <td>De acuerdo</td>\n",
       "    </tr>\n",
       "  </tbody>\n",
       "</table>\n",
       "</div>"
      ],
      "text/plain": [
       "               Dimensión            Categoría Subcategoría  \\\n",
       "0  Concepción de ciencia  Ciencia positivista   Progresiva   \n",
       "1  Concepción de ciencia  Ciencia positivista   Progresiva   \n",
       "\n",
       "                                           Indicador  \\\n",
       "0  La ciencia avanza, de manera contínua, hacia u...   \n",
       "1  La ciencia avanza, de manera contínua, hacia u...   \n",
       "\n",
       "                                        Afirmaciones  \\\n",
       "0  La ciencia se desarrolla constantemente hacia ...   \n",
       "1  La ciencia avanza tomando las explicaciones pr...   \n",
       "\n",
       "   Número de afirmación dentro del cuestionario              formulaio.Correo  \\\n",
       "0                                             1  angela.diosa@inemjose.edu.co   \n",
       "1                                             2  angela.diosa@inemjose.edu.co   \n",
       "\n",
       "  formulaio.Participante  formulaio.Afirmaciones  formulaio.Respuesta  \\\n",
       "0                 Angela                       1                    4   \n",
       "1                 Angela                       2                    4   \n",
       "\n",
       "  Nivel de Desacuerdo  \n",
       "0          De acuerdo  \n",
       "1          De acuerdo  "
      ]
     },
     "execution_count": 16,
     "metadata": {},
     "output_type": "execute_result"
    }
   ],
   "source": [
    "# Reading in the Nobel Prize data\n",
    "# build read_csv function\n",
    "folder_name = 'datasets'\n",
    "dir = r'C:\\Users\\mcaba\\OneDrive\\Escritorio\\Data Science\\Mike-Portfolio\\Mike-Portfolio\\other.projects\\{}'.format(folder_name)\n",
    "\n",
    "def read_csv_fun(folder_name,file_name, path):\n",
    "    path = dir\n",
    "    os.chdir(path)\n",
    "    df = pd.read_csv('{}.csv'.format(file_name), sep=',', low_memory=False, on_bad_lines='skip')\n",
    "    return df\n",
    "\n",
    "likert = read_csv_fun('datasets','likert', dir)\n",
    "\n",
    "# Taking a look at the first several winners\n",
    "likert.head(2)"
   ]
  },
  {
   "cell_type": "code",
   "execution_count": 17,
   "metadata": {},
   "outputs": [
    {
     "data": {
      "text/html": [
       "<div>\n",
       "<style scoped>\n",
       "    .dataframe tbody tr th:only-of-type {\n",
       "        vertical-align: middle;\n",
       "    }\n",
       "\n",
       "    .dataframe tbody tr th {\n",
       "        vertical-align: top;\n",
       "    }\n",
       "\n",
       "    .dataframe thead th {\n",
       "        text-align: right;\n",
       "    }\n",
       "</style>\n",
       "<table border=\"1\" class=\"dataframe\">\n",
       "  <thead>\n",
       "    <tr style=\"text-align: right;\">\n",
       "      <th></th>\n",
       "      <th>Dimensión</th>\n",
       "      <th>Categoría</th>\n",
       "      <th>Subcategoría</th>\n",
       "      <th>Indicador</th>\n",
       "      <th>Afirmaciones</th>\n",
       "      <th>Número de afirmación dentro del cuestionario</th>\n",
       "      <th>formulaio.Correo</th>\n",
       "      <th>formulaio.Participante</th>\n",
       "      <th>formulaio.Afirmaciones</th>\n",
       "      <th>formulaio.Respuesta</th>\n",
       "      <th>Nivel de Desacuerdo</th>\n",
       "    </tr>\n",
       "  </thead>\n",
       "  <tbody>\n",
       "    <tr>\n",
       "      <th>0</th>\n",
       "      <td>Concepción de ciencia</td>\n",
       "      <td>Ciencia positivista</td>\n",
       "      <td>Progresiva</td>\n",
       "      <td>La ciencia avanza, de manera contínua, hacia u...</td>\n",
       "      <td>La ciencia se desarrolla constantemente hacia ...</td>\n",
       "      <td>1</td>\n",
       "      <td>angela.diosa@inemjose.edu.co</td>\n",
       "      <td>Angela</td>\n",
       "      <td>1</td>\n",
       "      <td>4</td>\n",
       "      <td>De acuerdo</td>\n",
       "    </tr>\n",
       "    <tr>\n",
       "      <th>1</th>\n",
       "      <td>Concepción de ciencia</td>\n",
       "      <td>Ciencia positivista</td>\n",
       "      <td>Progresiva</td>\n",
       "      <td>La ciencia avanza, de manera contínua, hacia u...</td>\n",
       "      <td>La ciencia avanza tomando las explicaciones pr...</td>\n",
       "      <td>2</td>\n",
       "      <td>angela.diosa@inemjose.edu.co</td>\n",
       "      <td>Angela</td>\n",
       "      <td>2</td>\n",
       "      <td>4</td>\n",
       "      <td>De acuerdo</td>\n",
       "    </tr>\n",
       "    <tr>\n",
       "      <th>2</th>\n",
       "      <td>Concepción de ciencia</td>\n",
       "      <td>Ciencia modelo-teórica</td>\n",
       "      <td>Instrumentales</td>\n",
       "      <td>Los modelos cambian, se adaptan y evolucionan ...</td>\n",
       "      <td>Las explicaciones científicas no son definitiv...</td>\n",
       "      <td>3</td>\n",
       "      <td>angela.diosa@inemjose.edu.co</td>\n",
       "      <td>Angela</td>\n",
       "      <td>3</td>\n",
       "      <td>4</td>\n",
       "      <td>De acuerdo</td>\n",
       "    </tr>\n",
       "    <tr>\n",
       "      <th>3</th>\n",
       "      <td>Concepción de ciencia</td>\n",
       "      <td>Ciencia modelo-teórica</td>\n",
       "      <td>Instrumentales</td>\n",
       "      <td>Los modelos cambian, se adaptan y evolucionan ...</td>\n",
       "      <td>Los modelos que estructuran el conocimiento ci...</td>\n",
       "      <td>4</td>\n",
       "      <td>angela.diosa@inemjose.edu.co</td>\n",
       "      <td>Angela</td>\n",
       "      <td>4</td>\n",
       "      <td>4</td>\n",
       "      <td>De acuerdo</td>\n",
       "    </tr>\n",
       "    <tr>\n",
       "      <th>4</th>\n",
       "      <td>Concepción de ciencia</td>\n",
       "      <td>Ciencia modelo-teórica</td>\n",
       "      <td>Provisionales</td>\n",
       "      <td>Los modelos obedecen a elementos contextuales</td>\n",
       "      <td>El desarrollo de los modelos científicos depen...</td>\n",
       "      <td>5</td>\n",
       "      <td>angela.diosa@inemjose.edu.co</td>\n",
       "      <td>Angela</td>\n",
       "      <td>5</td>\n",
       "      <td>4</td>\n",
       "      <td>De acuerdo</td>\n",
       "    </tr>\n",
       "  </tbody>\n",
       "</table>\n",
       "</div>"
      ],
      "text/plain": [
       "               Dimensión               Categoría    Subcategoría  \\\n",
       "0  Concepción de ciencia     Ciencia positivista      Progresiva   \n",
       "1  Concepción de ciencia     Ciencia positivista      Progresiva   \n",
       "2  Concepción de ciencia  Ciencia modelo-teórica  Instrumentales   \n",
       "3  Concepción de ciencia  Ciencia modelo-teórica  Instrumentales   \n",
       "4  Concepción de ciencia  Ciencia modelo-teórica   Provisionales   \n",
       "\n",
       "                                           Indicador  \\\n",
       "0  La ciencia avanza, de manera contínua, hacia u...   \n",
       "1  La ciencia avanza, de manera contínua, hacia u...   \n",
       "2  Los modelos cambian, se adaptan y evolucionan ...   \n",
       "3  Los modelos cambian, se adaptan y evolucionan ...   \n",
       "4      Los modelos obedecen a elementos contextuales   \n",
       "\n",
       "                                        Afirmaciones  \\\n",
       "0  La ciencia se desarrolla constantemente hacia ...   \n",
       "1  La ciencia avanza tomando las explicaciones pr...   \n",
       "2  Las explicaciones científicas no son definitiv...   \n",
       "3  Los modelos que estructuran el conocimiento ci...   \n",
       "4  El desarrollo de los modelos científicos depen...   \n",
       "\n",
       "   Número de afirmación dentro del cuestionario              formulaio.Correo  \\\n",
       "0                                             1  angela.diosa@inemjose.edu.co   \n",
       "1                                             2  angela.diosa@inemjose.edu.co   \n",
       "2                                             3  angela.diosa@inemjose.edu.co   \n",
       "3                                             4  angela.diosa@inemjose.edu.co   \n",
       "4                                             5  angela.diosa@inemjose.edu.co   \n",
       "\n",
       "  formulaio.Participante  formulaio.Afirmaciones  formulaio.Respuesta  \\\n",
       "0                 Angela                       1                    4   \n",
       "1                 Angela                       2                    4   \n",
       "2                 Angela                       3                    4   \n",
       "3                 Angela                       4                    4   \n",
       "4                 Angela                       5                    4   \n",
       "\n",
       "  Nivel de Desacuerdo  \n",
       "0          De acuerdo  \n",
       "1          De acuerdo  \n",
       "2          De acuerdo  \n",
       "3          De acuerdo  \n",
       "4          De acuerdo  "
      ]
     },
     "metadata": {},
     "output_type": "display_data"
    },
    {
     "name": "stdout",
     "output_type": "stream",
     "text": [
      "Dimensión                                       0\n",
      "Categoría                                       0\n",
      "Subcategoría                                    0\n",
      "Indicador                                       0\n",
      "Afirmaciones                                    0\n",
      "Número de afirmación dentro del cuestionario    0\n",
      "formulaio.Correo                                0\n",
      "formulaio.Participante                          0\n",
      "formulaio.Afirmaciones                          0\n",
      "formulaio.Respuesta                             0\n",
      "Nivel de Desacuerdo                             0\n",
      "dtype: int64\n"
     ]
    },
    {
     "data": {
      "text/plain": [
       "None"
      ]
     },
     "metadata": {},
     "output_type": "display_data"
    },
    {
     "name": "stdout",
     "output_type": "stream",
     "text": [
      "216\n"
     ]
    },
    {
     "data": {
      "text/plain": [
       "None"
      ]
     },
     "metadata": {},
     "output_type": "display_data"
    },
    {
     "name": "stdout",
     "output_type": "stream",
     "text": [
      "<class 'pandas.core.frame.DataFrame'>\n",
      "RangeIndex: 216 entries, 0 to 215\n",
      "Data columns (total 11 columns):\n",
      " #   Column                                        Non-Null Count  Dtype \n",
      "---  ------                                        --------------  ----- \n",
      " 0   Dimensión                                     216 non-null    object\n",
      " 1   Categoría                                     216 non-null    object\n",
      " 2   Subcategoría                                  216 non-null    object\n",
      " 3   Indicador                                     216 non-null    object\n",
      " 4   Afirmaciones                                  216 non-null    object\n",
      " 5   Número de afirmación dentro del cuestionario  216 non-null    int64 \n",
      " 6   formulaio.Correo                              216 non-null    object\n",
      " 7   formulaio.Participante                        216 non-null    object\n",
      " 8   formulaio.Afirmaciones                        216 non-null    int64 \n",
      " 9   formulaio.Respuesta                           216 non-null    int64 \n",
      " 10  Nivel de Desacuerdo                           216 non-null    object\n",
      "dtypes: int64(3), object(8)\n",
      "memory usage: 18.7+ KB\n"
     ]
    },
    {
     "data": {
      "text/plain": [
       "None"
      ]
     },
     "metadata": {},
     "output_type": "display_data"
    },
    {
     "data": {
      "text/plain": [
       "Categoría\n",
       "Ciencia modelo-teórica    54\n",
       "Ciencia positivista       54\n",
       "Identidad científica      54\n",
       "Identidad de profesor     54\n",
       "Name: count, dtype: int64"
      ]
     },
     "metadata": {},
     "output_type": "display_data"
    },
    {
     "data": {
      "text/plain": [
       "formulaio.Participante\n",
       "Angela        24\n",
       "Criscar       24\n",
       "Kalandraka    24\n",
       "Karl          24\n",
       "Kika07        24\n",
       "L.G.M         24\n",
       "Lala          24\n",
       "Profe Mira    24\n",
       "Tarzan        24\n",
       "Name: count, dtype: int64"
      ]
     },
     "metadata": {},
     "output_type": "display_data"
    },
    {
     "data": {
      "text/plain": [
       "Dimensión\n",
       "Concepción de ciencia                             108\n",
       "Identidad de profesor vs. identidad científica    108\n",
       "Name: count, dtype: int64"
      ]
     },
     "metadata": {},
     "output_type": "display_data"
    }
   ],
   "source": [
    "display(\n",
    "    likert.head(5)\n",
    ")\n",
    "\n",
    "display(\n",
    "    print(likert.isna().sum())\n",
    "    )\n",
    "\n",
    "display(\n",
    "    print(len(likert))\n",
    "    )\n",
    "\n",
    "display(\n",
    "    likert.info()\n",
    ")\n",
    "\n",
    "display(\n",
    "    likert.value_counts(\"Categoría\")\n",
    ")\n",
    "\n",
    "display(\n",
    "    likert.value_counts(\"formulaio.Participante\")\n",
    ")\n",
    "\n",
    "display(\n",
    "    likert.value_counts(\"Dimensión\")\n",
    ")"
   ]
  },
  {
   "cell_type": "code",
   "execution_count": null,
   "metadata": {},
   "outputs": [],
   "source": []
  }
 ],
 "metadata": {
  "kernelspec": {
   "display_name": "Python 3",
   "language": "python",
   "name": "python3"
  },
  "language_info": {
   "codemirror_mode": {
    "name": "ipython",
    "version": 3
   },
   "file_extension": ".py",
   "mimetype": "text/x-python",
   "name": "python",
   "nbconvert_exporter": "python",
   "pygments_lexer": "ipython3",
   "version": "3.10.0"
  }
 },
 "nbformat": 4,
 "nbformat_minor": 2
}
